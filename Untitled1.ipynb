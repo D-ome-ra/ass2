{
  "nbformat": 4,
  "nbformat_minor": 0,
  "metadata": {
    "colab": {
      "provenance": [],
      "authorship_tag": "ABX9TyPTTeGvqPKy93rOyz0SG6+p",
      "include_colab_link": true
    },
    "kernelspec": {
      "name": "python3",
      "display_name": "Python 3"
    },
    "language_info": {
      "name": "python"
    }
  },
  "cells": [
    {
      "cell_type": "markdown",
      "metadata": {
        "id": "view-in-github",
        "colab_type": "text"
      },
      "source": [
        "<a href=\"https://colab.research.google.com/github/D-ome-ra/ass2/blob/main/Untitled1.ipynb\" target=\"_parent\"><img src=\"https://colab.research.google.com/assets/colab-badge.svg\" alt=\"Open In Colab\"/></a>"
      ]
    },
    {
      "cell_type": "code",
      "execution_count": 1,
      "metadata": {
        "id": "ac935AbyX9s4"
      },
      "outputs": [],
      "source": [
        "import pandas as pd\n",
        "\n",
        "# Create a sample DataFrame\n",
        "data = {\n",
        "    'StudentID': [1, 2, 3, 4, 5],\n",
        "    'Name': ['Grace', 'washington', 'daisy', 'David', 'purity'],\n",
        "    'Age': [20, 22, 21, 23, 22],\n",
        "    'GPA': [3.8, 3.0, 3.9, 3.1, 3.6],\n",
        "    'Enrolled': [1, 0, 1, 0, 1],\n",
        "    'Graduated': [1, 0, 1, 0, 1]\n",
        "}\n",
        "\n",
        "df = pd.DataFrame(data)\n",
        "\n",
        "# Save the DataFrame to a CSV file\n",
        "df.to_csv('your_dataset.csv', index=False)\n"
      ]
    },
    {
      "cell_type": "code",
      "source": [
        "import pandas as pd\n",
        "from sklearn.preprocessing import StandardScaler\n",
        "from sklearn.linear_model import LogisticRegression\n",
        "\n",
        "# Load the CSV file into a DataFrame\n",
        "file_path = 'your_dataset.csv'  # Provide the correct path if not in the same directory\n",
        "df = pd.read_csv(file_path)\n",
        "\n",
        "# Features for enrollment and graduation prediction\n",
        "features = df.drop(['Enrolled', 'Graduated'], axis=1)  # Include 'Name' column\n",
        "\n",
        "# One-hot encode the 'Name' column\n",
        "features_encoded = pd.get_dummies(features, columns=['Name'], drop_first=True)\n",
        "\n",
        "# Standardize all features (including one-hot encoded 'Name')\n",
        "scaler = StandardScaler()\n",
        "features_scaled = scaler.fit_transform(features_encoded)\n",
        "\n",
        "# Assuming you have trained models for enrollment and graduation prediction\n",
        "# If not, you need to define and train your models\n",
        "\n",
        "# Initialize the Logistic Regression classifiers\n",
        "clf_enroll = LogisticRegression(random_state=42)\n",
        "clf_graduate = LogisticRegression(random_state=42)\n",
        "\n",
        "# Train the classifiers\n",
        "clf_enroll.fit(features_scaled, df['Enrolled'])\n",
        "clf_graduate.fit(features_scaled, df['Graduated'])\n",
        "\n",
        "# Make predictions on the loaded data\n",
        "predictions_enroll = clf_enroll.predict(features_scaled)\n",
        "predictions_graduate = clf_graduate.predict(features_scaled)\n",
        "\n",
        "# Add the predictions to the DataFrame\n",
        "df['Enrollment_Prediction'] = predictions_enroll\n",
        "df['Graduation_Prediction'] = predictions_graduate\n",
        "\n",
        "# Display the DataFrame with predictions\n",
        "print(df)\n",
        "\n"
      ],
      "metadata": {
        "colab": {
          "base_uri": "https://localhost:8080/"
        },
        "id": "0fKbEqcIYoyF",
        "outputId": "8d64a2ed-f382-4d82-ab5a-7d34e368a0dd"
      },
      "execution_count": 7,
      "outputs": [
        {
          "output_type": "stream",
          "name": "stdout",
          "text": [
            "   StudentID        Name  Age  GPA  Enrolled  Graduated  \\\n",
            "0          1       Grace   20  3.8         1          1   \n",
            "1          2  washington   22  3.0         0          0   \n",
            "2          3       daisy   21  3.9         1          1   \n",
            "3          4       David   23  3.1         0          0   \n",
            "4          5      purity   22  3.6         1          1   \n",
            "\n",
            "   Enrollment_Prediction  Graduation_Prediction  \n",
            "0                      1                      1  \n",
            "1                      0                      0  \n",
            "2                      1                      1  \n",
            "3                      0                      0  \n",
            "4                      1                      1  \n"
          ]
        }
      ]
    }
  ]
}